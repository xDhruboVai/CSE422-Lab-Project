{
 "cells": [
  {
   "cell_type": "code",
   "execution_count": 4,
   "id": "ba8e6e24",
   "metadata": {},
   "outputs": [],
   "source": [
    "import pandas as pd\n",
    "from sklearn.naive_bayes import GaussianNB\n",
    "\n",
    "import sys\n",
    "import os\n",
    "sys.path.append(os.path.abspath('/Users/dihanislamdhrubo/Downloads/CSE422-Lab-Project-main'))\n",
    "from src import classical_model_utils"
   ]
  },
  {
   "cell_type": "code",
   "execution_count": 5,
   "id": "d79be0f3",
   "metadata": {},
   "outputs": [],
   "source": [
    "X_train_scaled = pd.read_csv(\"/Users/dihanislamdhrubo/Downloads/CSE422-Lab-Project-main/data/X_train_scaled.csv\")\n",
    "X_test_scaled = pd.read_csv(\"/Users/dihanislamdhrubo/Downloads/CSE422-Lab-Project-main/data/X_test_scaled.csv\")\n",
    "y_train = pd.read_csv(\"/Users/dihanislamdhrubo/Downloads/CSE422-Lab-Project-main/data/y_train.csv\")\n",
    "y_test = pd.read_csv(\"/Users/dihanislamdhrubo/Downloads/CSE422-Lab-Project-main/data/y_test.csv\")\n"
   ]
  },
  {
   "cell_type": "code",
   "execution_count": 6,
   "id": "87be3181",
   "metadata": {},
   "outputs": [
    {
     "name": "stdout",
     "output_type": "stream",
     "text": [
      "Naive Bayes Prediction accuracy 54.42\n"
     ]
    }
   ],
   "source": [
    "y_pred, accuracy = classical_model_utils.nb_predict()\n",
    "print(f\"Naive Bayes Prediction accuracy {(accuracy * 100):.2f}\")"
   ]
  }
 ],
 "metadata": {
  "kernelspec": {
   "display_name": ".venv",
   "language": "python",
   "name": "python3"
  },
  "language_info": {
   "codemirror_mode": {
    "name": "ipython",
    "version": 3
   },
   "file_extension": ".py",
   "mimetype": "text/x-python",
   "name": "python",
   "nbconvert_exporter": "python",
   "pygments_lexer": "ipython3",
   "version": "3.12.6"
  }
 },
 "nbformat": 4,
 "nbformat_minor": 5
}
