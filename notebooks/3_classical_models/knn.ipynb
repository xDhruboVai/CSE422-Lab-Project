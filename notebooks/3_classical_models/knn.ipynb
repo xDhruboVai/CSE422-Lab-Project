{
 "cells": [
  {
   "cell_type": "code",
   "execution_count": 10,
   "id": "e264ac60",
   "metadata": {},
   "outputs": [],
   "source": [
    "from sklearn.neighbors import KNeighborsClassifier\n",
    "import numpy as np\n",
    "import pandas as pd\n",
    "\n",
    "import sys\n",
    "import os\n",
    "sys.path.append(os.path.abspath('/Users/dihanislamdhrubo/Downloads/CSE422-Lab-Project-main'))\n",
    "from src import evaluations, classical_model_utils"
   ]
  },
  {
   "cell_type": "code",
   "execution_count": 11,
   "id": "42241e95",
   "metadata": {},
   "outputs": [],
   "source": [
    "X_train_scaled = pd.read_csv(\"/Users/dihanislamdhrubo/Downloads/CSE422-Lab-Project-main/data/X_train_scaled.csv\")\n",
    "X_test_scaled = pd.read_csv(\"/Users/dihanislamdhrubo/Downloads/CSE422-Lab-Project-main/data/X_test_scaled.csv\")\n",
    "y_train = pd.read_csv(\"/Users/dihanislamdhrubo/Downloads/CSE422-Lab-Project-main/data/y_train.csv\")\n",
    "y_test = pd.read_csv(\"/Users/dihanislamdhrubo/Downloads/CSE422-Lab-Project-main/data/y_test.csv\")\n"
   ]
  },
  {
   "cell_type": "code",
   "execution_count": 12,
   "id": "f48a12c6",
   "metadata": {},
   "outputs": [
    {
     "name": "stdout",
     "output_type": "stream",
     "text": [
      "Best value of K is 1\n",
      "Accuracy of the model for the value of K mentioned above: 86.12%\n"
     ]
    }
   ],
   "source": [
    "y_pred, accuracy = classical_model_utils.knn_predict()\n",
    "print(f\"Accuracy of the model for the value of K mentioned above: {(accuracy * 100):.2f}%\")"
   ]
  }
 ],
 "metadata": {
  "kernelspec": {
   "display_name": ".venv",
   "language": "python",
   "name": "python3"
  },
  "language_info": {
   "codemirror_mode": {
    "name": "ipython",
    "version": 3
   },
   "file_extension": ".py",
   "mimetype": "text/x-python",
   "name": "python",
   "nbconvert_exporter": "python",
   "pygments_lexer": "ipython3",
   "version": "3.12.6"
  }
 },
 "nbformat": 4,
 "nbformat_minor": 5
}
