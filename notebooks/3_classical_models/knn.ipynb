{
 "cells": [
  {
   "cell_type": "code",
   "execution_count": 1,
   "id": "e264ac60",
   "metadata": {},
   "outputs": [],
   "source": [
    "import pandas as pd\n",
    "\n",
    "import sys\n",
    "import os\n",
    "sys.path.append(os.path.abspath('/Users/dihanislamdhrubo/Downloads/CSE422-Lab-Project-main'))\n",
    "from src import classical_model_utils"
   ]
  },
  {
   "cell_type": "code",
   "execution_count": 2,
   "id": "f48a12c6",
   "metadata": {},
   "outputs": [
    {
     "name": "stdout",
     "output_type": "stream",
     "text": [
      "Best value of K is 1\n",
      "Accuracy of the model for the value of K mentioned above: 86.12%\n"
     ]
    }
   ],
   "source": [
    "y_pred, accuracy = classical_model_utils.knn_predict()\n",
    "print(f\"Accuracy of the model for the value of K mentioned above: {(accuracy * 100):.2f}%\")"
   ]
  }
 ],
 "metadata": {
  "kernelspec": {
   "display_name": ".venv",
   "language": "python",
   "name": "python3"
  },
  "language_info": {
   "codemirror_mode": {
    "name": "ipython",
    "version": 3
   },
   "file_extension": ".py",
   "mimetype": "text/x-python",
   "name": "python",
   "nbconvert_exporter": "python",
   "pygments_lexer": "ipython3",
   "version": "3.12.6"
  }
 },
 "nbformat": 4,
 "nbformat_minor": 5
}
