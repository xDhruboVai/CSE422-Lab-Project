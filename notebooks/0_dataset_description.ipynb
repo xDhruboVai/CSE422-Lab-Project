{
 "cells": [
  {
   "cell_type": "code",
   "execution_count": 22,
   "id": "66234e24",
   "metadata": {},
   "outputs": [],
   "source": [
    "import pandas as pd\n",
    "import seaborn as sns\n",
    "import matplotlib.pyplot as plt\n",
    "\n",
    "import sys\n",
    "import os\n",
    "sys.path.append(os.path.abspath('/Users/dihanislamdhrubo/Downloads/CSE422-Lab-Project-main'))\n",
    "from src import preprocessing"
   ]
  },
  {
   "cell_type": "code",
   "execution_count": 23,
   "id": "6f784a37",
   "metadata": {},
   "outputs": [],
   "source": [
    "source = pd.read_csv('/Users/dihanislamdhrubo/Downloads/CSE422-Lab-Project-main/data/Updated_Obesity_Dataset.csv')"
   ]
  },
  {
   "cell_type": "code",
   "execution_count": 24,
   "id": "c065a177",
   "metadata": {},
   "outputs": [
    {
     "name": "stdout",
     "output_type": "stream",
     "text": [
      "Number of features: 16\n"
     ]
    }
   ],
   "source": [
    "#1 Number of features\n",
    "num_features = source.shape[1] - 1\n",
    "print(f\"Number of features: {num_features}\")"
   ]
  },
  {
   "cell_type": "code",
   "execution_count": 25,
   "id": "9e899e6f",
   "metadata": {},
   "outputs": [
    {
     "name": "stdout",
     "output_type": "stream",
     "text": [
      "Problem type: Classification\n"
     ]
    }
   ],
   "source": [
    "# 2. Classification or regression problem?\n",
    "target_col = source.columns[-1]\n",
    "if source[target_col].dtype == \"object\":\n",
    "    problem_type = \"Classification\"\n",
    "else:\n",
    "    problem_type = \"Regression\"\n",
    "print(f\"Problem type: {problem_type}\")"
   ]
  },
  {
   "cell_type": "code",
   "execution_count": 26,
   "id": "76d696ff",
   "metadata": {},
   "outputs": [
    {
     "name": "stdout",
     "output_type": "stream",
     "text": [
      "Number of data points: 2111\n"
     ]
    }
   ],
   "source": [
    "# 3. How many data points?\n",
    "num_data_points = source.shape[0]\n",
    "print(f\"Number of data points: {num_data_points}\")"
   ]
  },
  {
   "cell_type": "code",
   "execution_count": 27,
   "id": "b8ac4d88",
   "metadata": {},
   "outputs": [
    {
     "name": "stdout",
     "output_type": "stream",
     "text": [
      "Feature types:\n",
      " Age                               Quantitative\n",
      "Gender                             Categorical\n",
      "Height                            Quantitative\n",
      "Weight                            Quantitative\n",
      "CALC                               Categorical\n",
      "FAVC                               Categorical\n",
      "FCVC                              Quantitative\n",
      "NCP                               Quantitative\n",
      "SCC                                Categorical\n",
      "SMOKE                              Categorical\n",
      "CH2O                              Quantitative\n",
      "family_history_with_overweight     Categorical\n",
      "FAF                               Quantitative\n",
      "TUE                               Quantitative\n",
      "CAEC                               Categorical\n",
      "MTRANS                             Categorical\n",
      "dtype: object\n"
     ]
    }
   ],
   "source": [
    "\n",
    "# 4. Type of features (Quantitative / Categorical)\n",
    "feature_types = source.dtypes[:-1].apply(lambda x: \"Categorical\" if x == \"object\" else \"Quantitative\")\n",
    "print(\"Feature types:\\n\", feature_types)"
   ]
  },
  {
   "cell_type": "code",
   "execution_count": 28,
   "id": "8aa92da7",
   "metadata": {},
   "outputs": [
    {
     "name": "stdout",
     "output_type": "stream",
     "text": [
      "Need to encode categorical variables?: Yes\n"
     ]
    }
   ],
   "source": [
    "# 5. Do you need to encode categorical variables?\n",
    "needs_encoding = any(feature_types == \"Categorical\")\n",
    "print(f\"Need to encode categorical variables?: {'Yes' if needs_encoding else 'No'}\")"
   ]
  },
  {
   "cell_type": "code",
   "execution_count": 29,
   "id": "3956d369",
   "metadata": {},
   "outputs": [],
   "source": [
    "#Corelation in preprocessing.ipynb after encoding properly"
   ]
  }
 ],
 "metadata": {
  "kernelspec": {
   "display_name": ".venv",
   "language": "python",
   "name": "python3"
  },
  "language_info": {
   "codemirror_mode": {
    "name": "ipython",
    "version": 3
   },
   "file_extension": ".py",
   "mimetype": "text/x-python",
   "name": "python",
   "nbconvert_exporter": "python",
   "pygments_lexer": "ipython3",
   "version": "3.12.6"
  }
 },
 "nbformat": 4,
 "nbformat_minor": 5
}
