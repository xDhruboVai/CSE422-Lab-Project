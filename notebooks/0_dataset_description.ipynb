{
 "cells": [
  {
   "cell_type": "code",
   "execution_count": 45,
   "id": "66234e24",
   "metadata": {},
   "outputs": [],
   "source": [
    "import pandas as pd\n",
    "import seaborn as sns\n",
    "import matplotlib.pyplot as plt\n",
    "\n",
    "import sys\n",
    "import os\n",
    "sys.path.append(os.path.abspath('/Users/dihanislamdhrubo/Downloads/CSE422-Lab-Project-main'))\n",
    "from src import preprocessing"
   ]
  },
  {
   "cell_type": "markdown",
   "id": "10f6b676",
   "metadata": {},
   "source": [
    "Part 1"
   ]
  },
  {
   "cell_type": "code",
   "execution_count": 46,
   "id": "6f784a37",
   "metadata": {},
   "outputs": [],
   "source": [
    "source = pd.read_csv('/Users/dihanislamdhrubo/Downloads/CSE422-Lab-Project-main/data/Updated_Obesity_Dataset.csv')\n",
    "target_col = source.columns[-1]"
   ]
  },
  {
   "cell_type": "code",
   "execution_count": 47,
   "id": "c065a177",
   "metadata": {},
   "outputs": [
    {
     "name": "stdout",
     "output_type": "stream",
     "text": [
      "Number of features: 16\n"
     ]
    }
   ],
   "source": [
    "#1 Number of features\n",
    "num_features = source.shape[1] - 1\n",
    "print(f\"Number of features: {num_features}\")"
   ]
  },
  {
   "cell_type": "code",
   "execution_count": 48,
   "id": "9e899e6f",
   "metadata": {},
   "outputs": [
    {
     "name": "stdout",
     "output_type": "stream",
     "text": [
      "Problem type: Classification\n"
     ]
    }
   ],
   "source": [
    "# 2. Classification or regression problem?\n",
    "if source[target_col].dtype == \"object\":\n",
    "    problem_type = \"Classification\"\n",
    "else:\n",
    "    problem_type = \"Regression\"\n",
    "print(f\"Problem type: {problem_type}\")"
   ]
  },
  {
   "cell_type": "code",
   "execution_count": 49,
   "id": "76d696ff",
   "metadata": {},
   "outputs": [
    {
     "name": "stdout",
     "output_type": "stream",
     "text": [
      "Number of data points: 2111\n"
     ]
    }
   ],
   "source": [
    "# 3. How many data points?\n",
    "num_data_points = source.shape[0]\n",
    "print(f\"Number of data points: {num_data_points}\")"
   ]
  },
  {
   "cell_type": "code",
   "execution_count": 50,
   "id": "b8ac4d88",
   "metadata": {},
   "outputs": [
    {
     "name": "stdout",
     "output_type": "stream",
     "text": [
      "Feature types:\n",
      " Age                               Quantitative\n",
      "Gender                             Categorical\n",
      "Height                            Quantitative\n",
      "Weight                            Quantitative\n",
      "CALC                               Categorical\n",
      "FAVC                               Categorical\n",
      "FCVC                              Quantitative\n",
      "NCP                               Quantitative\n",
      "SCC                                Categorical\n",
      "SMOKE                              Categorical\n",
      "CH2O                              Quantitative\n",
      "family_history_with_overweight     Categorical\n",
      "FAF                               Quantitative\n",
      "TUE                               Quantitative\n",
      "CAEC                               Categorical\n",
      "MTRANS                             Categorical\n",
      "dtype: object\n"
     ]
    }
   ],
   "source": [
    "\n",
    "# 4. Type of features (Quantitative / Categorical)\n",
    "feature_types = source.dtypes[:-1].apply(lambda x: \"Categorical\" if x == \"object\" else \"Quantitative\")\n",
    "print(\"Feature types:\\n\", feature_types)"
   ]
  },
  {
   "cell_type": "code",
   "execution_count": 51,
   "id": "8aa92da7",
   "metadata": {},
   "outputs": [
    {
     "name": "stdout",
     "output_type": "stream",
     "text": [
      "Need to encode categorical variables?: Yes\n"
     ]
    }
   ],
   "source": [
    "# 5. Do you need to encode categorical variables?\n",
    "needs_encoding = any(feature_types == \"Categorical\")\n",
    "print(f\"Need to encode categorical variables?: {'Yes' if needs_encoding else 'No'}\")"
   ]
  },
  {
   "cell_type": "code",
   "execution_count": 52,
   "id": "3956d369",
   "metadata": {},
   "outputs": [],
   "source": [
    "#Corelation in preprocessing.ipynb after encoding properly"
   ]
  },
  {
   "cell_type": "markdown",
   "id": "98ac4cae",
   "metadata": {},
   "source": [
    "Part 2"
   ]
  },
  {
   "cell_type": "code",
   "execution_count": 53,
   "id": "0bdb6359",
   "metadata": {},
   "outputs": [
    {
     "name": "stdout",
     "output_type": "stream",
     "text": [
      "Class distribution:\n",
      " NObeyesdad\n",
      "Obesity_Type_I         351\n",
      "Obesity_Type_III       324\n",
      "Obesity_Type_II        297\n",
      "Overweight_Level_I     290\n",
      "Overweight_Level_II    290\n",
      "Normal_Weight          287\n",
      "Insufficient_Weight    272\n",
      "Name: count, dtype: int64\n",
      "The dataset is imbalanced: classes have different number of instances.\n"
     ]
    },
    {
     "data": {
      "image/png": "[encoded data removed]",
      "text/plain": [
       "<Figure size 800x500 with 1 Axes>"
      ]
     },
     "metadata": {},
     "output_type": "display_data"
    }
   ],
   "source": [
    "class_counts = source[target_col].value_counts()\n",
    "print(\"Class distribution:\\n\", class_counts)\n",
    "\n",
    "# 2. Are all classes equally represented?\n",
    "if class_counts.nunique() == 1:\n",
    "    print(\"The dataset is balanced: all classes have equal number of instances.\")\n",
    "else:\n",
    "    print(\"The dataset is imbalanced: classes have different number of instances.\")\n",
    "\n",
    "plt.figure(figsize=(8,5))\n",
    "class_counts.plot(kind = 'bar', color = 'skyblue')\n",
    "plt.xlabel('Classes')\n",
    "plt.ylabel('Number of Instances')\n",
    "plt.title('Class Distribution')\n",
    "plt.show()"
   ]
  },
  {
   "cell_type": "markdown",
   "id": "7896185d",
   "metadata": {},
   "source": [
    "Part 3: EDA"
   ]
  },
  {
   "cell_type": "code",
   "execution_count": 54,
   "id": "416a6318",
   "metadata": {},
   "outputs": [
    {
     "name": "stdout",
     "output_type": "stream",
     "text": [
      "There are 8 numerical features: \n",
      "\n",
      "['Age', 'Height', 'Weight', 'FCVC', 'NCP', 'CH2O', 'FAF', 'TUE']\n"
     ]
    }
   ],
   "source": [
    "numerical_data = source.select_dtypes(include = 'number')\n",
    "\n",
    "numerical_features = numerical_data.columns.tolist()\n",
    "\n",
    "print(f'There are {len(numerical_features)} numerical features:', '\\n')\n",
    "print(numerical_features)"
   ]
  },
  {
   "cell_type": "code",
   "execution_count": 55,
   "id": "1dc85ef9",
   "metadata": {},
   "outputs": [
    {
     "name": "stdout",
     "output_type": "stream",
     "text": [
      "There are 9 numerical features: \n",
      "\n",
      "['Gender', 'CALC', 'FAVC', 'SCC', 'SMOKE', 'family_history_with_overweight', 'CAEC', 'MTRANS', 'NObeyesdad']\n"
     ]
    }
   ],
   "source": [
    "categorical_data = source.select_dtypes(include= 'object')\n",
    "\n",
    "categorical_features = categorical_data.columns.tolist()\n",
    "\n",
    "print(f'There are {len(categorical_features)} numerical features:', '\\n')\n",
    "print(categorical_features)"
   ]
  },
  {
   "cell_type": "code",
   "execution_count": 56,
   "id": "5b4c87d5",
   "metadata": {},
   "outputs": [
    {
     "data": {
      "text/html": [
       "<div>\n",
       "<style scoped>\n",
       "    .dataframe tbody tr th:only-of-type {\n",
       "        vertical-align: middle;\n",
       "    }\n",
       "\n",
       "    .dataframe tbody tr th {\n",
       "        vertical-align: top;\n",
       "    }\n",
       "\n",
       "    .dataframe thead th {\n",
       "        text-align: right;\n",
       "    }\n",
       "</style>\n",
       "<table border=\"1\" class=\"dataframe\">\n",
       "  <thead>\n",
       "    <tr style=\"text-align: right;\">\n",
       "      <th></th>\n",
       "      <th>count</th>\n",
       "      <th>mean</th>\n",
       "      <th>std</th>\n",
       "      <th>min</th>\n",
       "      <th>25%</th>\n",
       "      <th>50%</th>\n",
       "      <th>75%</th>\n",
       "      <th>max</th>\n",
       "    </tr>\n",
       "  </thead>\n",
       "  <tbody>\n",
       "    <tr>\n",
       "      <th>Age</th>\n",
       "      <td>2111.0</td>\n",
       "      <td>24.312600</td>\n",
       "      <td>6.345968</td>\n",
       "      <td>14.00</td>\n",
       "      <td>19.947192</td>\n",
       "      <td>22.777890</td>\n",
       "      <td>26.000000</td>\n",
       "      <td>61.00</td>\n",
       "    </tr>\n",
       "    <tr>\n",
       "      <th>Height</th>\n",
       "      <td>2111.0</td>\n",
       "      <td>1.701677</td>\n",
       "      <td>0.093305</td>\n",
       "      <td>1.45</td>\n",
       "      <td>1.630000</td>\n",
       "      <td>1.700499</td>\n",
       "      <td>1.768464</td>\n",
       "      <td>1.98</td>\n",
       "    </tr>\n",
       "    <tr>\n",
       "      <th>Weight</th>\n",
       "      <td>2111.0</td>\n",
       "      <td>86.586058</td>\n",
       "      <td>26.191172</td>\n",
       "      <td>39.00</td>\n",
       "      <td>65.473343</td>\n",
       "      <td>83.000000</td>\n",
       "      <td>107.430682</td>\n",
       "      <td>173.00</td>\n",
       "    </tr>\n",
       "    <tr>\n",
       "      <th>FCVC</th>\n",
       "      <td>2111.0</td>\n",
       "      <td>2.419043</td>\n",
       "      <td>0.533927</td>\n",
       "      <td>1.00</td>\n",
       "      <td>2.000000</td>\n",
       "      <td>2.385502</td>\n",
       "      <td>3.000000</td>\n",
       "      <td>3.00</td>\n",
       "    </tr>\n",
       "    <tr>\n",
       "      <th>NCP</th>\n",
       "      <td>2111.0</td>\n",
       "      <td>2.685628</td>\n",
       "      <td>0.778039</td>\n",
       "      <td>1.00</td>\n",
       "      <td>2.658738</td>\n",
       "      <td>3.000000</td>\n",
       "      <td>3.000000</td>\n",
       "      <td>4.00</td>\n",
       "    </tr>\n",
       "    <tr>\n",
       "      <th>CH2O</th>\n",
       "      <td>2090.0</td>\n",
       "      <td>2.009034</td>\n",
       "      <td>0.613164</td>\n",
       "      <td>1.00</td>\n",
       "      <td>1.582010</td>\n",
       "      <td>2.000000</td>\n",
       "      <td>2.479917</td>\n",
       "      <td>3.00</td>\n",
       "    </tr>\n",
       "    <tr>\n",
       "      <th>FAF</th>\n",
       "      <td>2111.0</td>\n",
       "      <td>1.010298</td>\n",
       "      <td>0.850592</td>\n",
       "      <td>0.00</td>\n",
       "      <td>0.124505</td>\n",
       "      <td>1.000000</td>\n",
       "      <td>1.666678</td>\n",
       "      <td>3.00</td>\n",
       "    </tr>\n",
       "    <tr>\n",
       "      <th>TUE</th>\n",
       "      <td>2111.0</td>\n",
       "      <td>0.657866</td>\n",
       "      <td>0.608927</td>\n",
       "      <td>0.00</td>\n",
       "      <td>0.000000</td>\n",
       "      <td>0.625350</td>\n",
       "      <td>1.000000</td>\n",
       "      <td>2.00</td>\n",
       "    </tr>\n",
       "  </tbody>\n",
       "</table>\n",
       "</div>"
      ],
      "text/plain": [
       "         count       mean        std    min        25%        50%         75%  \\\n",
       "Age     2111.0  24.312600   6.345968  14.00  19.947192  22.777890   26.000000   \n",
       "Height  2111.0   1.701677   0.093305   1.45   1.630000   1.700499    1.768464   \n",
       "Weight  2111.0  86.586058  26.191172  39.00  65.473343  83.000000  107.430682   \n",
       "FCVC    2111.0   2.419043   0.533927   1.00   2.000000   2.385502    3.000000   \n",
       "NCP     2111.0   2.685628   0.778039   1.00   2.658738   3.000000    3.000000   \n",
       "CH2O    2090.0   2.009034   0.613164   1.00   1.582010   2.000000    2.479917   \n",
       "FAF     2111.0   1.010298   0.850592   0.00   0.124505   1.000000    1.666678   \n",
       "TUE     2111.0   0.657866   0.608927   0.00   0.000000   0.625350    1.000000   \n",
       "\n",
       "           max  \n",
       "Age      61.00  \n",
       "Height    1.98  \n",
       "Weight  173.00  \n",
       "FCVC      3.00  \n",
       "NCP       4.00  \n",
       "CH2O      3.00  \n",
       "FAF       3.00  \n",
       "TUE       2.00  "
      ]
     },
     "execution_count": 56,
     "metadata": {},
     "output_type": "execute_result"
    }
   ],
   "source": [
    "numerical_data.describe().T"
   ]
  },
  {
   "cell_type": "code",
   "execution_count": 57,
   "id": "18bd81ef",
   "metadata": {},
   "outputs": [
    {
     "data": {
      "text/html": [
       "<div>\n",
       "<style scoped>\n",
       "    .dataframe tbody tr th:only-of-type {\n",
       "        vertical-align: middle;\n",
       "    }\n",
       "\n",
       "    .dataframe tbody tr th {\n",
       "        vertical-align: top;\n",
       "    }\n",
       "\n",
       "    .dataframe thead th {\n",
       "        text-align: right;\n",
       "    }\n",
       "</style>\n",
       "<table border=\"1\" class=\"dataframe\">\n",
       "  <thead>\n",
       "    <tr style=\"text-align: right;\">\n",
       "      <th></th>\n",
       "      <th>count</th>\n",
       "      <th>unique</th>\n",
       "      <th>top</th>\n",
       "      <th>freq</th>\n",
       "    </tr>\n",
       "  </thead>\n",
       "  <tbody>\n",
       "    <tr>\n",
       "      <th>Gender</th>\n",
       "      <td>2100</td>\n",
       "      <td>2</td>\n",
       "      <td>Male</td>\n",
       "      <td>1065</td>\n",
       "    </tr>\n",
       "    <tr>\n",
       "      <th>CALC</th>\n",
       "      <td>2111</td>\n",
       "      <td>4</td>\n",
       "      <td>Sometimes</td>\n",
       "      <td>1401</td>\n",
       "    </tr>\n",
       "    <tr>\n",
       "      <th>FAVC</th>\n",
       "      <td>2111</td>\n",
       "      <td>2</td>\n",
       "      <td>yes</td>\n",
       "      <td>1866</td>\n",
       "    </tr>\n",
       "    <tr>\n",
       "      <th>SCC</th>\n",
       "      <td>2111</td>\n",
       "      <td>2</td>\n",
       "      <td>no</td>\n",
       "      <td>2015</td>\n",
       "    </tr>\n",
       "    <tr>\n",
       "      <th>SMOKE</th>\n",
       "      <td>2111</td>\n",
       "      <td>2</td>\n",
       "      <td>no</td>\n",
       "      <td>2067</td>\n",
       "    </tr>\n",
       "    <tr>\n",
       "      <th>family_history_with_overweight</th>\n",
       "      <td>2090</td>\n",
       "      <td>2</td>\n",
       "      <td>yes</td>\n",
       "      <td>1706</td>\n",
       "    </tr>\n",
       "    <tr>\n",
       "      <th>CAEC</th>\n",
       "      <td>2111</td>\n",
       "      <td>4</td>\n",
       "      <td>Sometimes</td>\n",
       "      <td>1765</td>\n",
       "    </tr>\n",
       "    <tr>\n",
       "      <th>MTRANS</th>\n",
       "      <td>2111</td>\n",
       "      <td>5</td>\n",
       "      <td>Public_Transportation</td>\n",
       "      <td>1580</td>\n",
       "    </tr>\n",
       "    <tr>\n",
       "      <th>NObeyesdad</th>\n",
       "      <td>2111</td>\n",
       "      <td>7</td>\n",
       "      <td>Obesity_Type_I</td>\n",
       "      <td>351</td>\n",
       "    </tr>\n",
       "  </tbody>\n",
       "</table>\n",
       "</div>"
      ],
      "text/plain": [
       "                               count unique                    top  freq\n",
       "Gender                          2100      2                   Male  1065\n",
       "CALC                            2111      4              Sometimes  1401\n",
       "FAVC                            2111      2                    yes  1866\n",
       "SCC                             2111      2                     no  2015\n",
       "SMOKE                           2111      2                     no  2067\n",
       "family_history_with_overweight  2090      2                    yes  1706\n",
       "CAEC                            2111      4              Sometimes  1765\n",
       "MTRANS                          2111      5  Public_Transportation  1580\n",
       "NObeyesdad                      2111      7         Obesity_Type_I   351"
      ]
     },
     "execution_count": 57,
     "metadata": {},
     "output_type": "execute_result"
    }
   ],
   "source": [
    "categorical_data.describe().T"
   ]
  },
  {
   "cell_type": "code",
   "execution_count": 58,
   "id": "1666567d",
   "metadata": {},
   "outputs": [
    {
     "data": {
      "image/png": "[encoded data removed]",
      "text/plain": [
       "<Figure size 1200x1200 with 9 Axes>"
      ]
     },
     "metadata": {},
     "output_type": "display_data"
    }
   ],
   "source": [
    "numerical_data.hist(figsize=(12,12),bins=20)\n",
    "plt.show()"
   ]
  }
 ],
 "metadata": {
  "kernelspec": {
   "display_name": ".venv",
   "language": "python",
   "name": "python3"
  },
  "language_info": {
   "codemirror_mode": {
    "name": "ipython",
    "version": 3
   },
   "file_extension": ".py",
   "mimetype": "text/x-python",
   "name": "python",
   "nbconvert_exporter": "python",
   "pygments_lexer": "ipython3",
   "version": "3.12.6"
  }
 },
 "nbformat": 4,
 "nbformat_minor": 5
}
