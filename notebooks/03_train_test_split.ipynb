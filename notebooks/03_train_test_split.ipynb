{
 "cells": [
  {
   "cell_type": "code",
   "execution_count": 11,
   "id": "4f497c9c",
   "metadata": {},
   "outputs": [],
   "source": [
    "import pandas as pd\n",
    "from sklearn.model_selection import train_test_split"
   ]
  },
  {
   "cell_type": "code",
   "execution_count": 12,
   "id": "069df38f",
   "metadata": {},
   "outputs": [],
   "source": [
    "source = pd.read_csv(\"/Users/dihanislamdhrubo/Downloads/CSE422-Lab-Project-main/data/processed_dataset.csv\")"
   ]
  },
  {
   "cell_type": "code",
   "execution_count": null,
   "id": "d10ed930",
   "metadata": {},
   "outputs": [],
   "source": [
    "features = [\"Age\", \"Height\", \"Weight\", \"CALC\", \"FCVC\", \"NCP\", \n",
    "            \"CH2O\", \"FAF\", \"TUE\", \"CAEC\",\n",
    "            \"Gender\", \"FAVC\", \"SCC\", \"SMOKE\", \"family_history_with_overweight\",\n",
    "            \"MTRANS\"]\n",
    "\n",
    "target = \"NObeyesdad\"\n",
    "\n",
    "X = source[features]\n",
    "y = source[target]\n",
    "\n",
    "X_train, X_test, y_train, y_test = train_test_split(\n",
    "    X, y, test_size = 0.25, random_state = 42, stratify = y\n",
    ")\n",
    "\n",
    "X_train.to_csv(\"X_train.csv\", index = False)\n",
    "X_test.to_csv(\"X_test.csv\", index = False)\n",
    "y_train.to_csv(\"y_train.csv\", index = False)\n",
    "y_test.to_csv(\"y_test.csv\", index = False)"
   ]
  }
 ],
 "metadata": {
  "kernelspec": {
   "display_name": ".venv",
   "language": "python",
   "name": "python3"
  },
  "language_info": {
   "codemirror_mode": {
    "name": "ipython",
    "version": 3
   },
   "file_extension": ".py",
   "mimetype": "text/x-python",
   "name": "python",
   "nbconvert_exporter": "python",
   "pygments_lexer": "ipython3",
   "version": "3.12.6"
  }
 },
 "nbformat": 4,
 "nbformat_minor": 5
}
