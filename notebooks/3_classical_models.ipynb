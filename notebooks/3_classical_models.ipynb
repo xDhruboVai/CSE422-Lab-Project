{
 "cells": [
  {
   "cell_type": "code",
   "execution_count": 9,
   "id": "3e745f30",
   "metadata": {},
   "outputs": [],
   "source": [
    "import sys\n",
    "import os\n",
    "sys.path.append(os.path.abspath('/Users/dihanislamdhrubo/Downloads/CSE422-Lab-Project-main'))\n",
    "from src import classical_model_utils"
   ]
  },
  {
   "cell_type": "code",
   "execution_count": 10,
   "id": "aea0f92b",
   "metadata": {},
   "outputs": [
    {
     "name": "stdout",
     "output_type": "stream",
     "text": [
      "Best value of K is 1\n",
      "Accuracy of the model for the value of K mentioned above: 86.12%\n"
     ]
    }
   ],
   "source": [
    "y_pred, accuracy = classical_model_utils.knn_predict()\n",
    "print(f\"Accuracy of the model for the value of K mentioned above: {(accuracy * 100):.2f}%\")"
   ]
  },
  {
   "cell_type": "code",
   "execution_count": 11,
   "id": "4b1d45f3",
   "metadata": {},
   "outputs": [
    {
     "name": "stdout",
     "output_type": "stream",
     "text": [
      "Decision Tree prediction accuracy: 94.01\n"
     ]
    }
   ],
   "source": [
    "y_pred, accuracy = classical_model_utils.dt_predict()\n",
    "print(f\"Decision Tree prediction accuracy: {(accuracy * 100):.2f}\")"
   ]
  },
  {
   "cell_type": "code",
   "execution_count": 12,
   "id": "7b4c9859",
   "metadata": {},
   "outputs": [
    {
     "name": "stdout",
     "output_type": "stream",
     "text": [
      "Logistic Regression prediction accuracy: 88.01\n"
     ]
    }
   ],
   "source": [
    "y_pred, accuracy = classical_model_utils.log_predict()\n",
    "print(f\"Logistic Regression prediction accuracy: {(accuracy * 100):.2f}\")"
   ]
  },
  {
   "cell_type": "code",
   "execution_count": 13,
   "id": "9a334164",
   "metadata": {},
   "outputs": [
    {
     "name": "stdout",
     "output_type": "stream",
     "text": [
      "Naive Bayes Prediction accuracy 54.42%\n"
     ]
    }
   ],
   "source": [
    "y_pred, accuracy = classical_model_utils.nb_predict()\n",
    "print(f\"Naive Bayes Prediction accuracy {(accuracy * 100):.2f}%\")"
   ]
  }
 ],
 "metadata": {
  "kernelspec": {
   "display_name": ".venv",
   "language": "python",
   "name": "python3"
  },
  "language_info": {
   "codemirror_mode": {
    "name": "ipython",
    "version": 3
   },
   "file_extension": ".py",
   "mimetype": "text/x-python",
   "name": "python",
   "nbconvert_exporter": "python",
   "pygments_lexer": "ipython3",
   "version": "3.12.6"
  }
 },
 "nbformat": 4,
 "nbformat_minor": 5
}
